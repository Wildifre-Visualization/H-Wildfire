{
 "cells": [
  {
   "cell_type": "code",
   "execution_count": null,
   "metadata": {},
   "outputs": [],
   "source": [
    "import pandas as pd\n",
    "import geopandas as gpd\n",
    "from pandas_geojson import to_geojson\n",
    "from shapely.geometry import Point\n",
    "import json\n"
   ]
  },
  {
   "cell_type": "code",
   "execution_count": 17,
   "metadata": {},
   "outputs": [],
   "source": [
    "#Create path and red in CSV\n",
    "path = 'Wildfires_2.csv'\n",
    "csv = pd.read_csv(path)\n",
    "#Convert CSV into DF\n",
    "df = pd.DataFrame(csv)"
   ]
  },
  {
   "cell_type": "code",
   "execution_count": 18,
   "metadata": {},
   "outputs": [],
   "source": [
    "first_years_df = df[df[\"FIRE_YEAR\"].between(1992, 1999)]\n",
    "second_years_df = df[df[\"FIRE_YEAR\"].between(2000, 2007)]\n",
    "third_years_df = df[df[\"FIRE_YEAR\"].between(2008, 2015)]"
   ]
  },
  {
   "cell_type": "code",
   "execution_count": 19,
   "metadata": {},
   "outputs": [
    {
     "name": "stderr",
     "output_type": "stream",
     "text": [
      "d:\\Anaconda\\envs\\dev\\lib\\site-packages\\geopandas\\geodataframe.py:1321: UserWarning: Geometry column does not contain geometry.\n",
      "  warnings.warn(\"Geometry column does not contain geometry.\")\n"
     ]
    }
   ],
   "source": [
    "#Store points for coordinates in a variable\n",
    "geometry = [Point(xy) for xy in zip(first_years_df['LONGITUDE'], first_years_df['LATITUDE'])]\n",
    "#Create GeoDataFrame and add geometry column\n",
    "geo_first_years = gpd.GeoDataFrame(first_years_df, geometry=geometry)\n",
    "\n",
    "#Sort Values\n",
    "gdf_first_years = gdf_first_years.sort_values('FIRE_YEAR')\n",
    "\n",
    "#Drop unnecessary columns\n",
    "gdf_first_years = geo_first_years.drop(['LATITUDE', 'LONGITUDE', 'index', 'STAT_CAUSE_DESCR', 'Fire_Date'], axis = 1)\n",
    "gdf_first_years = gdf_first_years.dropna()\n",
    "\n",
    "#Convert non-spatial columns to properties\n",
    "properties = gdf_first_years.drop(['geometry'], axis = 1).to_dict(orient='records')\n",
    "\n",
    "# Convert Point geometries to GeoJSON-compatible format\n",
    "gdf_first_years['geometry'] = gdf_first_years['geometry'].apply(lambda point: {'coordinates': (point.x, point.y)})\n",
    "\n",
    "#Add properties to GeoJSON\n",
    "geojson_data_first_years = {\n",
    "    \"features\": []\n",
    "}\n",
    "\n",
    "for feature, prop in zip(gdf_first_years['geometry'], properties):\n",
    "    geojson_data_first_years['features'].append({\n",
    "        \"geometry\": feature,\n",
    "        \"properties\": prop\n",
    "    })\n",
    "    \n",
    "# Save GeoJSON to a file\n",
    "with open('first_years.geojson', 'w') as f:\n",
    "    json.dump(geojson_data_first_years, f, indent=2)"
   ]
  },
  {
   "cell_type": "code",
   "execution_count": 20,
   "metadata": {},
   "outputs": [
    {
     "name": "stderr",
     "output_type": "stream",
     "text": [
      "d:\\Anaconda\\envs\\dev\\lib\\site-packages\\geopandas\\geodataframe.py:1321: UserWarning: Geometry column does not contain geometry.\n",
      "  warnings.warn(\"Geometry column does not contain geometry.\")\n"
     ]
    }
   ],
   "source": [
    "#Store points for coordinates in a variable\n",
    "geometry = [Point(xy) for xy in zip(second_years_df['LONGITUDE'], second_years_df['LATITUDE'])]\n",
    "\n",
    "#Create GeoDataFrame and add geometry column\n",
    "geo_second_years = gpd.GeoDataFrame(second_years_df, geometry=geometry)\n",
    "\n",
    "#Sort Values\n",
    "geo_second_years = geo_second_years.sort_values('FIRE_YEAR')\n",
    "\n",
    "#Drop unnecessary columns\n",
    "gdf_second_years = geo_second_years.drop(['LATITUDE', 'LONGITUDE', 'index', 'STAT_CAUSE_DESCR', 'Fire_Date'], axis = 1)\n",
    "gdf_second_years = gdf_second_years.dropna()\n",
    "\n",
    "#Convert non-spatial columns to properties\n",
    "properties = gdf_second_years.drop(['geometry'], axis = 1).to_dict(orient='records')\n",
    "\n",
    "# Convert Point geometries to GeoJSON-compatible format\n",
    "gdf_second_years['geometry'] = gdf_second_years['geometry'].apply(lambda point: {'coordinates': (point.x, point.y)})\n",
    "\n",
    "#Add properties to GeoJSON\n",
    "geojson_data_second_years = {\n",
    "    \"features\": []\n",
    "}\n",
    "\n",
    "for feature, prop in zip(gdf_second_years['geometry'], properties):\n",
    "    geojson_data_second_years['features'].append({\n",
    "        \"geometry\": feature,\n",
    "        \"properties\": prop\n",
    "    })\n",
    "    \n",
    "# Save GeoJSON to a file\n",
    "with open('second_years.geojson', 'w') as f:\n",
    "    json.dump(geojson_data_second_years, f, indent=2)"
   ]
  },
  {
   "cell_type": "code",
   "execution_count": 21,
   "metadata": {},
   "outputs": [
    {
     "name": "stderr",
     "output_type": "stream",
     "text": [
      "d:\\Anaconda\\envs\\dev\\lib\\site-packages\\geopandas\\geodataframe.py:1321: UserWarning: Geometry column does not contain geometry.\n",
      "  warnings.warn(\"Geometry column does not contain geometry.\")\n"
     ]
    }
   ],
   "source": [
    "#Store points for coordinates in a variable\n",
    "geometry = [Point(xy) for xy in zip(third_years_df['LONGITUDE'], third_years_df['LATITUDE'])]\n",
    "#Create GeoDataFrame and add geometry column\n",
    "geo_third_years = gpd.GeoDataFrame(third_years_df, geometry=geometry)\n",
    "\n",
    "#Sort Values\n",
    "geo_third_years = geo_third_years.sort_values('FIRE_YEAR')\n",
    "\n",
    "#Drop unnecessary columns\n",
    "gdf_third_years = geo_third_years.drop(['LATITUDE', 'LONGITUDE', 'index', 'STAT_CAUSE_DESCR', 'Fire_Date'], axis = 1)\n",
    "gdf_third_years = gdf_third_years.dropna()\n",
    "\n",
    "#Convert non-spatial columns to properties\n",
    "properties = gdf_third_years.drop(['geometry'], axis = 1).to_dict(orient='records')\n",
    "\n",
    "# Convert Point geometries to GeoJSON-compatible format\n",
    "gdf_third_years['geometry'] = gdf_third_years['geometry'].apply(lambda point: {'coordinates': (point.x, point.y)})\n",
    "\n",
    "#Add properties to GeoJSON\n",
    "geojson_data_third_years = {\n",
    "    \"features\": []\n",
    "}\n",
    "\n",
    "for feature, prop in zip(gdf_third_years['geometry'], properties):\n",
    "    geojson_data_third_years['features'].append({\n",
    "        \"geometry\": feature,\n",
    "        \"properties\": prop\n",
    "    })\n",
    "    \n",
    "# Save GeoJSON to a file\n",
    "with open('third_years.geojson', 'w') as f:\n",
    "    json.dump(geojson_data_third_years, f, indent=2)"
   ]
  }
 ],
 "metadata": {
  "kernelspec": {
   "display_name": "dev",
   "language": "python",
   "name": "python3"
  },
  "language_info": {
   "codemirror_mode": {
    "name": "ipython",
    "version": 3
   },
   "file_extension": ".py",
   "mimetype": "text/x-python",
   "name": "python",
   "nbconvert_exporter": "python",
   "pygments_lexer": "ipython3",
   "version": "3.10.13"
  }
 },
 "nbformat": 4,
 "nbformat_minor": 2
}
