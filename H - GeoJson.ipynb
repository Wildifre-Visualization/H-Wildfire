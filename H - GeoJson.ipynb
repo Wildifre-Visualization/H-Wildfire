{
 "cells": [
  {
   "cell_type": "code",
   "execution_count": 4,
   "metadata": {},
   "outputs": [],
   "source": [
    "import pandas as pd\n",
    "import geopandas as gpd\n",
    "from pandas_geojson import to_geojson\n",
    "from shapely.geometry import Point\n",
    "import json\n"
   ]
  },
  {
   "cell_type": "code",
   "execution_count": 5,
   "metadata": {},
   "outputs": [],
   "source": [
    "#Create path and red in CSV\n",
    "path = './Resources/Wildfires_2.csv'\n",
    "csv = pd.read_csv(path)\n",
    "#Convert CSV into DF\n",
    "df = pd.DataFrame(csv)"
   ]
  },
  {
   "cell_type": "code",
   "execution_count": 6,
   "metadata": {},
   "outputs": [],
   "source": [
    "first_years_df = df[df[\"FIRE_YEAR\"].between(2000, 2004)]\n",
    "second_years_df = df[df[\"FIRE_YEAR\"].between(2005, 2009)]\n",
    "third_years_df = df[df[\"FIRE_YEAR\"].between(2010, 2015)]"
   ]
  },
  {
   "cell_type": "code",
   "execution_count": 7,
   "metadata": {},
   "outputs": [
    {
     "name": "stderr",
     "output_type": "stream",
     "text": [
      "C:\\Users\\ocean\\AppData\\Local\\Temp\\ipykernel_30428\\4188593017.py:23: UserWarning: Geometry column does not contain geometry.\n",
      "  gdf_2000['geometry'] = gdf_2000['geometry'].apply(lambda point: {'coordinates': (point.x, point.y)})\n",
      "C:\\Users\\ocean\\AppData\\Roaming\\Python\\Python311\\site-packages\\geopandas\\geodataframe.py:1543: SettingWithCopyWarning: \n",
      "A value is trying to be set on a copy of a slice from a DataFrame.\n",
      "Try using .loc[row_indexer,col_indexer] = value instead\n",
      "\n",
      "See the caveats in the documentation: https://pandas.pydata.org/pandas-docs/stable/user_guide/indexing.html#returning-a-view-versus-a-copy\n",
      "  super().__setitem__(key, value)\n"
     ]
    }
   ],
   "source": [
    "# Assuming you have loaded your DataFrame 'first_years_df'\n",
    "\n",
    "# Store points for coordinates in a variable\n",
    "geometry = [Point(xy) for xy in zip(first_years_df['LONGITUDE'], first_years_df['LATITUDE'])]\n",
    "\n",
    "# Create GeoDataFrame and add geometry column\n",
    "geo_first_years = gpd.GeoDataFrame(first_years_df, geometry=geometry)\n",
    "\n",
    "# Drop unnecessary columns\n",
    "gdf_first_years = geo_first_years.drop(['LATITUDE', 'LONGITUDE', 'index', 'STAT_CAUSE_DESCR', 'Fire_Date'], axis=1)\n",
    "gdf_first_years = gdf_first_years.dropna()\n",
    "\n",
    "# Sort Values\n",
    "gdf_first_years.sort_values('FIRE_YEAR', inplace=True)\n",
    "\n",
    "# Dropping unnecessary size classes \n",
    "gdf_2000 = gdf_first_years[~gdf_first_years['FIRE_SIZE_CLASS'].isin(['A', 'B', 'C'])]\n",
    "\n",
    "# Convert non-spatial columns to properties\n",
    "properties = gdf_2000.drop(['geometry'], axis=1).to_dict(orient='records')\n",
    "\n",
    "# Convert Point geometries to GeoJSON-compatible format\n",
    "gdf_2000['geometry'] = gdf_2000['geometry'].apply(lambda point: {'coordinates': (point.x, point.y)})\n",
    "\n",
    "# Add properties to GeoJSON\n",
    "geojson_data_first_years = {\n",
    "    \"features\": []\n",
    "}\n",
    "\n",
    "for feature, prop in zip(gdf_2000['geometry'], properties):\n",
    "    geojson_data_first_years['features'].append({\n",
    "        \"geometry\": feature,\n",
    "        \"properties\": prop\n",
    "    })\n",
    "\n",
    "# Save GeoJSON to a file\n",
    "with open('first_years.geojson', 'w') as f:\n",
    "    json.dump(geojson_data_first_years, f, indent=2)\n"
   ]
  },
  {
   "cell_type": "code",
   "execution_count": 8,
   "metadata": {},
   "outputs": [
    {
     "name": "stderr",
     "output_type": "stream",
     "text": [
      "C:\\Users\\ocean\\AppData\\Local\\Temp\\ipykernel_30428\\1009050382.py:21: SettingWithCopyWarning: \n",
      "A value is trying to be set on a copy of a slice from a DataFrame\n",
      "\n",
      "See the caveats in the documentation: https://pandas.pydata.org/pandas-docs/stable/user_guide/indexing.html#returning-a-view-versus-a-copy\n",
      "  gdf_2005.sort_values('FIRE_YEAR', inplace=True)\n",
      "C:\\Users\\ocean\\AppData\\Local\\Temp\\ipykernel_30428\\1009050382.py:27: UserWarning: Geometry column does not contain geometry.\n",
      "  gdf_2005['geometry'] = gdf_2005['geometry'].apply(lambda point: {'coordinates': (point.x, point.y)})\n",
      "C:\\Users\\ocean\\AppData\\Roaming\\Python\\Python311\\site-packages\\geopandas\\geodataframe.py:1543: SettingWithCopyWarning: \n",
      "A value is trying to be set on a copy of a slice from a DataFrame.\n",
      "Try using .loc[row_indexer,col_indexer] = value instead\n",
      "\n",
      "See the caveats in the documentation: https://pandas.pydata.org/pandas-docs/stable/user_guide/indexing.html#returning-a-view-versus-a-copy\n",
      "  super().__setitem__(key, value)\n"
     ]
    }
   ],
   "source": [
    "import geopandas as gpd\n",
    "from shapely.geometry import Point\n",
    "import json\n",
    "\n",
    "# Assuming you have loaded your DataFrame 'second_years_df'\n",
    "\n",
    "# Store points for coordinates in a variable\n",
    "geometry = [Point(xy) for xy in zip(second_years_df['LONGITUDE'], second_years_df['LATITUDE'])]\n",
    "\n",
    "# Create GeoDataFrame and add geometry column\n",
    "geo_second_years = gpd.GeoDataFrame(second_years_df, geometry=geometry)\n",
    "\n",
    "# Drop unnecessary columns\n",
    "gdf_second_years = geo_second_years.drop(['LATITUDE', 'LONGITUDE', 'index', 'STAT_CAUSE_DESCR', 'Fire_Date'], axis=1)\n",
    "gdf_second_years = gdf_second_years.dropna()\n",
    "\n",
    "# Dropping unnecessary size classes \n",
    "gdf_2005 = gdf_second_years[~gdf_second_years['FIRE_SIZE_CLASS'].isin(['A', 'B', 'C'])]\n",
    "\n",
    "# Sort Values\n",
    "gdf_2005.sort_values('FIRE_YEAR', inplace=True)\n",
    "\n",
    "# Convert non-spatial columns to properties\n",
    "properties = gdf_2005.drop(['geometry'], axis=1).to_dict(orient='records')\n",
    "\n",
    "# Convert Point geometries to GeoJSON-compatible format\n",
    "gdf_2005['geometry'] = gdf_2005['geometry'].apply(lambda point: {'coordinates': (point.x, point.y)})\n",
    "\n",
    "# Add properties to GeoJSON\n",
    "geojson_data_second_years = {\n",
    "    \"features\": []\n",
    "}\n",
    "\n",
    "for feature, prop in zip(gdf_2005['geometry'], properties):\n",
    "    geojson_data_second_years['features'].append({\n",
    "        \"geometry\": feature,\n",
    "        \"properties\": prop\n",
    "    })\n",
    "\n",
    "# Save GeoJSON to a file\n",
    "with open('second_years.geojson', 'w') as f:\n",
    "    json.dump(geojson_data_second_years, f, indent=2)"
   ]
  },
  {
   "cell_type": "code",
   "execution_count": 19,
   "metadata": {},
   "outputs": [],
   "source": [
    "import geopandas as gpd\n",
    "from shapely.geometry import Point\n",
    "import json\n",
    "\n",
    "\n",
    "def create_geojson(df, filename):\n",
    "    # Store points for coordinates in a variable\n",
    "    geometry = [Point(xy) for xy in zip(df['LONGITUDE'], df['LATITUDE'])]\n",
    "\n",
    "    # Create GeoDataFrame and add geometry column\n",
    "    geo_df = gpd.GeoDataFrame(df, geometry=geometry)\n",
    "\n",
    "    # Drop unnecessary columns\n",
    "    gdf = geo_df.drop(['LATITUDE', 'LONGITUDE', 'index',\n",
    "                      'STAT_CAUSE_DESCR', 'Fire_Date'], axis=1).copy()\n",
    "    gdf = gdf.dropna()\n",
    "\n",
    "    # Dropping unnecessary size classes\n",
    "    gdf = gdf[~gdf['FIRE_SIZE_CLASS'].isin(['A', 'B', 'C'])]\n",
    "\n",
    "    # Sort Values\n",
    "    gdf.sort_values('FIRE_YEAR', inplace=True)\n",
    "\n",
    "    # Convert non-spatial columns to properties\n",
    "    properties = gdf.drop(['geometry'], axis=1).to_dict(orient='records')\n",
    "\n",
    "    # Create a list for GeoJSON-compatible geometries\n",
    "    geojson_geometries = gdf['geometry'].apply(lambda point: {'type': 'Point', 'coordinates': (\n",
    "        point.x, point.y)} if point.is_valid else None).tolist()\n",
    "\n",
    "    # Add properties to GeoJSON\n",
    "    geojson_data = {\n",
    "        \"type\": \"FeatureCollection\",\n",
    "        \"features\": []\n",
    "    }\n",
    "\n",
    "    for feature, prop in zip(geojson_geometries, properties):\n",
    "        # Check if the geometry is valid\n",
    "        if feature is not None and 'coordinates' in feature and len(feature['coordinates']) == 2:\n",
    "            geojson_data['features'].append({\n",
    "                \"type\": \"Feature\",\n",
    "                \"geometry\": feature,\n",
    "                \"properties\": prop\n",
    "            })\n",
    "\n",
    "    # Save GeoJSON to a file\n",
    "    with open(filename, 'w') as f:\n",
    "        json.dump(geojson_data, f, indent=2)\n",
    "\n",
    "\n",
    "# Call the function for each DataFrame\n",
    "create_geojson(first_years_df, 'first_years.geojson')\n",
    "create_geojson(second_years_df, 'second_years.geojson')\n",
    "create_geojson(third_years_df, 'third_years.geojson')\n"
   ]
  },
  {
   "cell_type": "code",
   "execution_count": 14,
   "metadata": {},
   "outputs": [
    {
     "data": {
      "text/plain": [
       "''"
      ]
     },
     "execution_count": 14,
     "metadata": {},
     "output_type": "execute_result"
    }
   ],
   "source": [
    ",    "
   ]
  }
 ],
 "metadata": {
  "kernelspec": {
   "display_name": "dev",
   "language": "python",
   "name": "python3"
  },
  "language_info": {
   "codemirror_mode": {
    "name": "ipython",
    "version": 3
   },
   "file_extension": ".py",
   "mimetype": "text/x-python",
   "name": "python",
   "nbconvert_exporter": "python",
   "pygments_lexer": "ipython3",
   "version": "3.11.4"
  }
 },
 "nbformat": 4,
 "nbformat_minor": 2
}
