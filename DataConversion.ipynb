{
 "cells": [
  {
   "cell_type": "code",
   "execution_count": 1,
   "metadata": {},
   "outputs": [
    {
     "name": "stderr",
     "output_type": "stream",
     "text": [
      "C:\\Users\\ocean\\AppData\\Local\\Temp\\ipykernel_36932\\273604607.py:2: DeprecationWarning: \n",
      "Pyarrow will become a required dependency of pandas in the next major release of pandas (pandas 3.0),\n",
      "(to allow more performant data types, such as the Arrow string type, and better interoperability with other libraries)\n",
      "but was not found to be installed on your system.\n",
      "If this would cause problems for you,\n",
      "please provide us feedback at https://github.com/pandas-dev/pandas/issues/54466\n",
      "        \n",
      "  import pandas as pd\n"
     ]
    }
   ],
   "source": [
    "#Import dependencies\n",
    "import pandas as pd\n",
    "import geopandas as gpd\n",
    "from pandas_geojson import to_geojson\n",
    "from shapely.geometry import Point\n",
    "import json"
   ]
  },
  {
   "cell_type": "code",
   "execution_count": 2,
   "metadata": {},
   "outputs": [],
   "source": [
    "#Create path to the CSV\n",
    "path = './Resources/US_Lightning_Forest_Fires.csv'\n",
    "csv = pd.read_csv(path)\n",
    "#Create DataFrame\n",
    "df = pd.DataFrame(csv)"
   ]
  },
  {
   "cell_type": "code",
   "execution_count": 3,
   "metadata": {},
   "outputs": [],
   "source": [
    "#Drop columns we don't need\n",
    "columns_to_drop = ['Unnamed: 0', 'DISCOVERY_TIME', 'FIPS_CODE', 'FIPS_NAME', 'Days_to_extinguish_fire', 'FIPS_CODE', 'FIPS_NAME']\n",
    "df2 = df.drop(columns=columns_to_drop)\n",
    "#Drop null values\n",
    "df2.dropna(subset=['CONT_TIME'])\n",
    "#Convert \"Fire Date\" to datetime\n",
    "df2['Fire_Date'] = pd.to_datetime(df['Fire_Date'], format='%m-%d-%Y', errors='coerce')"
   ]
  },
  {
   "cell_type": "code",
   "execution_count": 4,
   "metadata": {},
   "outputs": [],
   "source": [
    "#Save new CSV file\n",
    "csv_path = './Resources/Wildfires_2.csv'\n",
    "df2.to_csv(csv_path, index = False)"
   ]
  },
  {
   "cell_type": "code",
   "execution_count": 5,
   "metadata": {},
   "outputs": [],
   "source": [
    "#Create path and read in new CSV\n",
    "path_2 = './Resources/Wildfires_2.csv'\n",
    "csv_2 = pd.read_csv(path_2)\n",
    "#Convert CSV into DF\n",
    "df_2 = pd.DataFrame(csv_2)"
   ]
  },
  {
   "cell_type": "code",
   "execution_count": 6,
   "metadata": {},
   "outputs": [],
   "source": [
    "#Create different DataFrame's for each of the time periods we decided to visualize\n",
    "first_years_df = df_2[df_2[\"FIRE_YEAR\"].between(2000, 2004)]\n",
    "second_years_df = df_2[df_2[\"FIRE_YEAR\"].between(2005, 2009)]\n",
    "third_years_df = df_2[df_2[\"FIRE_YEAR\"].between(2010, 2015)]"
   ]
  },
  {
   "cell_type": "code",
   "execution_count": 7,
   "metadata": {},
   "outputs": [],
   "source": [
    "#Define a function to convert the DataFrames into GeoJson files\n",
    "\n",
    "def create_geojson(df, filename):\n",
    "    # Store points for coordinates in a variable\n",
    "    geometry = [Point(xy) for xy in zip(df['LONGITUDE'], df['LATITUDE'])]\n",
    "\n",
    "    # Create GeoDataFrame and add geometry column\n",
    "    geo_df = gpd.GeoDataFrame(df, geometry=geometry)\n",
    "\n",
    "    # Drop unnecessary columns\n",
    "    gdf = geo_df.drop(['LATITUDE', 'LONGITUDE', 'index',\n",
    "                      'STAT_CAUSE_DESCR', 'Fire_Date'], axis=1).copy()\n",
    "    gdf = gdf.dropna()\n",
    "\n",
    "    # Dropping unnecessary size classes\n",
    "    gdf = gdf[~gdf['FIRE_SIZE_CLASS'].isin(['A', 'B', 'C'])]\n",
    "\n",
    "    # Sort Values\n",
    "    gdf.sort_values('FIRE_YEAR', inplace=True)\n",
    "\n",
    "    # Convert non-spatial columns to properties\n",
    "    properties = gdf.drop(['geometry'], axis=1).to_dict(orient='records')\n",
    "\n",
    "    # Create a list for GeoJSON-compatible geometries\n",
    "    geojson_geometries = gdf['geometry'].apply(lambda point: {'type': 'Point', 'coordinates': (\n",
    "        point.x, point.y)} if point.is_valid else None).tolist()\n",
    "\n",
    "    # Add properties to GeoJSON\n",
    "    geojson_data = {\n",
    "        \"type\": \"FeatureCollection\",\n",
    "        \"features\": []\n",
    "    }\n",
    "\n",
    "    for feature, prop in zip(geojson_geometries, properties):\n",
    "        # Check if the geometry is valid\n",
    "        if feature is not None and 'coordinates' in feature and len(feature['coordinates']) == 2:\n",
    "            geojson_data['features'].append({\n",
    "                \"type\": \"Feature\",\n",
    "                \"geometry\": feature,\n",
    "                \"properties\": prop\n",
    "            })\n",
    "\n",
    "    # Save GeoJSON to a file\n",
    "    with open(filename, 'w') as f:\n",
    "        json.dump(geojson_data, f, indent=2)\n",
    "\n",
    "\n",
    "# Call the function for each DataFrame\n",
    "create_geojson(first_years_df, './Resources/first_years.geojson')\n",
    "create_geojson(second_years_df, './Resources/second_years.geojson')\n",
    "create_geojson(third_years_df, './Resources/third_years.geojson')\n"
   ]
  }
 ],
 "metadata": {
  "kernelspec": {
   "display_name": "base",
   "language": "python",
   "name": "python3"
  },
  "language_info": {
   "codemirror_mode": {
    "name": "ipython",
    "version": 3
   },
   "file_extension": ".py",
   "mimetype": "text/x-python",
   "name": "python",
   "nbconvert_exporter": "python",
   "pygments_lexer": "ipython3",
   "version": "3.11.4"
  }
 },
 "nbformat": 4,
 "nbformat_minor": 2
}
